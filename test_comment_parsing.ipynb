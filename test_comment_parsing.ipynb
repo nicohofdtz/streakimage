{
 "cells": [
  {
   "cell_type": "code",
   "execution_count": 1,
   "source": [
    "from types import SimpleNamespace"
   ],
   "outputs": [],
   "metadata": {}
  },
  {
   "cell_type": "code",
   "execution_count": 2,
   "source": [
    "d = {'a': 1, 'b': 2, 'c': 3, 'd': 4}"
   ],
   "outputs": [],
   "metadata": {}
  },
  {
   "cell_type": "code",
   "execution_count": 6,
   "source": [
    "test_ns = SimpleNamespace(**d)"
   ],
   "outputs": [],
   "metadata": {}
  },
  {
   "cell_type": "code",
   "execution_count": 7,
   "source": [
    "test_ns.a"
   ],
   "outputs": [
    {
     "output_type": "execute_result",
     "data": {
      "text/plain": [
       "1"
      ]
     },
     "metadata": {},
     "execution_count": 7
    }
   ],
   "metadata": {}
  },
  {
   "cell_type": "code",
   "execution_count": 9,
   "source": [
    "print(test_ns)"
   ],
   "outputs": [
    {
     "output_type": "stream",
     "name": "stdout",
     "text": [
      "namespace(a=1, b=2, c=3, d=4)\n"
     ]
    }
   ],
   "metadata": {}
  },
  {
   "cell_type": "code",
   "execution_count": 10,
   "source": [
    "test_ns.__repr__()"
   ],
   "outputs": [
    {
     "output_type": "execute_result",
     "data": {
      "text/plain": [
       "'namespace(a=1, b=2, c=3, d=4)'"
      ]
     },
     "metadata": {},
     "execution_count": 10
    }
   ],
   "metadata": {}
  },
  {
   "cell_type": "code",
   "execution_count": 30,
   "source": [
    "def get_namespace(dict_: dict) -> SimpleNamespace:\r\n",
    "    return SimpleNamespace(**{k:(v if not isinstance(v, dict) else get_namespace(v)) for k,v in dict_.items()})"
   ],
   "outputs": [],
   "metadata": {}
  },
  {
   "cell_type": "code",
   "execution_count": 32,
   "source": [
    "tdict = {\"a\": 1, \"b\": 2, \"c\": {\"ca\": 11, \"cb\": 12}}\r\n",
    "tns = get_namespace(tdict)"
   ],
   "outputs": [],
   "metadata": {}
  },
  {
   "cell_type": "code",
   "execution_count": 34,
   "source": [
    "tns.c.ca"
   ],
   "outputs": [
    {
     "output_type": "execute_result",
     "data": {
      "text/plain": [
       "11"
      ]
     },
     "metadata": {},
     "execution_count": 34
    }
   ],
   "metadata": {}
  }
 ],
 "metadata": {
  "orig_nbformat": 4,
  "language_info": {
   "name": "python",
   "version": "3.9.7",
   "mimetype": "text/x-python",
   "codemirror_mode": {
    "name": "ipython",
    "version": 3
   },
   "pygments_lexer": "ipython3",
   "nbconvert_exporter": "python",
   "file_extension": ".py"
  },
  "kernelspec": {
   "name": "python3",
   "display_name": "Python 3.9.7 64-bit ('dssc-paper-MVejnzzt': pipenv)"
  },
  "interpreter": {
   "hash": "3057b400be9641dbdc635ccd425ad2dc164bb31d2e901cb27afdd0bc122553e8"
  }
 },
 "nbformat": 4,
 "nbformat_minor": 2
}